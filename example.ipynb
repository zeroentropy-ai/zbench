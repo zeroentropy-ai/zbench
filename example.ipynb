{
 "cells": [
  {
   "cell_type": "code",
   "execution_count": 1,
   "id": "ecb90ffb",
   "metadata": {},
   "outputs": [
    {
     "name": "stderr",
     "output_type": "stream",
     "text": [
      "/Users/npip99/Documents/programming/zeroentropy/zbench/.venv/lib/python3.12/site-packages/tqdm/auto.py:21: TqdmWarning: IProgress not found. Please update jupyter and ipywidgets. See https://ipywidgets.readthedocs.io/en/stable/user_install.html\n",
      "  from .autonotebook import tqdm as notebook_tqdm\n"
     ]
    }
   ],
   "source": [
    "# Let's start by creating a sample dataset.\n",
    "\n",
    "from zbench.common_types import QueryDocuments, Query, Document\n",
    "from zbench.utils import save_pydantic_jsonl\n",
    "\n",
    "dataset: list[QueryDocuments] = [\n",
    "    QueryDocuments(\n",
    "        query=Query(id=\"Q1\", query=\"What is the capital of France?\"),\n",
    "        documents=[\n",
    "            Document(id=\"d1\", content=\"Paris is the capital of France.\"),\n",
    "            Document(id=\"d2\", content=\"Rome is the capital of Italy.\"),\n",
    "        ]\n",
    "    )\n",
    "]\n",
    "\n",
    "save_pydantic_jsonl(\"my_samle_dataset.jsonl\", dataset)"
   ]
  },
  {
   "cell_type": "code",
   "execution_count": null,
   "id": "5271e7c9",
   "metadata": {},
   "outputs": [],
   "source": [
    "# At first, we need to annotate the dataset.\n",
    "# We can do this by running the following code:\n",
    "\n",
    "from zbench.annotation import Annotator\n",
    "\n",
    "annotator = Annotator(\"my_samle_dataset.jsonl\")\n",
    "annotator.annotate()\n",
    "\n",
    "# Now, we have an annotated dataset called \"my_samle_dataset_annotated.jsonl\" in the working directory."
   ]
  },
  {
   "cell_type": "code",
   "execution_count": null,
   "id": "e573b0a9",
   "metadata": {},
   "outputs": [],
   "source": [
    "# Having an annotated dataset, we can define a reranker based on it.\n",
    "# We also can define any other reranker by inheriting from the BaseReranker class.\n",
    "\n",
    "from zbench.rerankers import EnsembleReranker, BaseReranker, RerankerInput\n",
    "\n",
    "ensemble_reranker = EnsembleReranker(\"my_samle_dataset_annotated.jsonl\")\n",
    "\n",
    "class MyReranker(BaseReranker):\n",
    "    def __init__(self):\n",
    "        self.my_variable = 1\n",
    "\n",
    "    async def score(self, input: RerankerInput) -> list[float]:\n",
    "        return [0.5] * len(input.documents)\n",
    "    \n",
    "my_reranker = MyReranker()"
   ]
  },
  {
   "cell_type": "code",
   "execution_count": null,
   "id": "f12cedfb",
   "metadata": {},
   "outputs": [],
   "source": [
    "# Finally, we can run three benchmarks:\n",
    "\n",
    "from zbench.benchmark import benchmark_ndcg, benchmark_accuracy, recall_at_k\n",
    "\n",
    "print(await benchmark_ndcg(\"my_samle_dataset.jsonl\", my_reranker, ensemble_reranker, visualize=True)) # you can visualise the ndcg score distribution\n",
    "print(await benchmark_accuracy(\"my_samle_dataset.jsonl\", my_reranker, ensemble_reranker))\n",
    "print(await recall_at_k(\"my_samle_dataset.jsonl\", my_reranker, ensemble_reranker, 1, k_gt=1))\n",
    "\n",
    "# As for recall at k, we also introduce a parameter k_gt, which is the number of ground truth documents to consider since the annotation does not separate the ground truth, just the order. For the best results, you can tune k_gt depending on the annotations score distritribution."
   ]
  },
  {
   "cell_type": "code",
   "execution_count": null,
   "id": "82d420a4",
   "metadata": {},
   "outputs": [],
   "source": [
    "# You can also use built-in zerank reranker.\n",
    "\n",
    "from zbench.rerankers import Zerank\n",
    "\n",
    "zerank = Zerank(\"zerank-1\")\n",
    "\n",
    "# Now, you can run the benchmarks:\n",
    "\n",
    "print(await benchmark_ndcg(\"my_samle_dataset.jsonl\", zerank, ensemble_reranker, visualize=True))\n",
    "print(await benchmark_accuracy(\"my_samle_dataset.jsonl\", zerank, ensemble_reranker))\n",
    "print(await recall_at_k(\"my_samle_dataset.jsonl\", zerank, ensemble_reranker, 1, k_gt=1))"
   ]
  }
 ],
 "metadata": {
  "kernelspec": {
   "display_name": "zbench",
   "language": "python",
   "name": "python3"
  },
  "language_info": {
   "codemirror_mode": {
    "name": "ipython",
    "version": 3
   },
   "file_extension": ".py",
   "mimetype": "text/x-python",
   "name": "python",
   "nbconvert_exporter": "python",
   "pygments_lexer": "ipython3",
   "version": "3.12.0"
  }
 },
 "nbformat": 4,
 "nbformat_minor": 5
}
