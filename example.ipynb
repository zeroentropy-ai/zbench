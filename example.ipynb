{
  "cells": [
    {
      "cell_type": "code",
      "execution_count": 1,
      "metadata": {},
      "outputs": [],
      "source": [
        "# Let's start by creating a sample dataset.\n",
        "\n",
        "import json\n",
        "from dotenv import load_dotenv\n",
        "\n",
        "# Load api keys from .env file\n",
        "load_dotenv(override=True) \n",
        "\n",
        "\"\"\"\n",
        "You can also create your own jsonl file where each line is in this format:\n",
        "{\n",
        "    \"query\": {\n",
        "        \"id\": \"q1\",\n",
        "        \"query\": \"What is the capital of France?\"\n",
        "    },\n",
        "    \"documents\": [\n",
        "        {\"id\": \"d1\", \"content\": \"Paris is the capital of France.\", \"score\": 0.9},\n",
        "        {\"id\": \"d2\", \"content\": \"Rome is the capital of Italy.\", \"score\": 0.8},\n",
        "        ...\n",
        "    ]\n",
        "}\n",
        "\n",
        "An example of such a file can be found at `./data/legalquad.jsonl`.\n",
        "The scores are optional, if not provided, the score of the ith document will be set to 1 / (i + 1).\n",
        "\"\"\"\n",
        "\n",
        "# Here's an example of how to create such a dataset:\n",
        "SOURCE_DATASET_PATH = \"./data/my_sample_dataset.jsonl\"\n",
        "with open(SOURCE_DATASET_PATH, \"w\") as f:\n",
        "    f.write(json.dumps(\n",
        "        {\n",
        "            \"query\": {\n",
        "                \"id\": \"q1\",\n",
        "                \"query\": \"What is the capital of France?\"\n",
        "            },\n",
        "            \"documents\": [\n",
        "                # Oh no, we scored it high, but this document is not relevant to the query!\n",
        "                {\"id\": \"d1\", \"content\": \"Paris has a capital letter. France also has a capital letter.\", \"score\": 0.9},\n",
        "                # This is what we actually want\n",
        "                {\"id\": \"d2\", \"content\": \"Paris is the capital of France.\", \"score\": 0.7},\n",
        "                # This is definitely not relevant to the query\n",
        "                {\"id\": \"d3\", \"content\": \"Rome is the capital of Italy.\", \"score\": 0.2},\n",
        "            ]\n",
        "        }\n",
        "    ))"
      ]
    },
    {
      "cell_type": "code",
      "execution_count": 9,
      "metadata": {},
      "outputs": [
        {
          "name": "stdout",
          "output_type": "stream",
          "text": [
            "Step 1: Loading dataset\n",
            "Loaded 1 queries from data/annotation/my_sample_dataset/dataset.jsonl\n",
            "Step 2: Creating pairs for AI scoring\n"
          ]
        },
        {
          "name": "stderr",
          "output_type": "stream",
          "text": [
            "Creating pairs: 100%|██████████| 1/1 [00:00<00:00, 468.17it/s]\n"
          ]
        },
        {
          "name": "stdout",
          "output_type": "stream",
          "text": [
            "Created 12 pairs and saved to data/annotation/my_sample_dataset/pairs.json\n",
            "Step 3: Scoring pairs\n"
          ]
        },
        {
          "name": "stderr",
          "output_type": "stream",
          "text": [
            "Scoring Pairs: 100%|██████████| 12/12 [00:27<00:00,  2.26s/it]"
          ]
        },
        {
          "name": "stdout",
          "output_type": "stream",
          "text": [
            "Scored 12 pairs and saved to data/annotation/my_sample_dataset/ai_scores.json\n",
            "Step 4: Composing annotated dataset\n",
            "Created 1 annotated lines\n",
            "Saved annotated dataset to ./data/my_sample_dataset_zelo_annotated.jsonl\n",
            "\n",
            "🎉 Annotation completed successfully!\n",
            "Final outputs:\n",
            "Annotated dataset: ./data/my_sample_dataset_zelo_annotated.jsonl\n"
          ]
        },
        {
          "name": "stderr",
          "output_type": "stream",
          "text": [
            "\n"
          ]
        }
      ],
      "source": [
        "# At first, we need to Ensemble annotate the dataset.\n",
        "# We can do this by running the following code:\n",
        "\n",
        "from zbench.annotation import EnsembleZELOAnnotator\n",
        "\n",
        "# We'll initialize an ELO annotator that will read from our example dataset, and output an annotated dataset.\n",
        "ANNOTATED_DATASET_PATH = \"./data/my_sample_dataset_zelo_annotated.jsonl\"\n",
        "annotator = EnsembleZELOAnnotator(SOURCE_DATASET_PATH, ANNOTATED_DATASET_PATH)\n",
        "\n",
        "# Now, we'll run the ELO annotator. It will write to the jsonl file we specified in the constructor.\n",
        "await annotator.zelo_annotate()"
      ]
    },
    {
      "cell_type": "code",
      "execution_count": 3,
      "metadata": {},
      "outputs": [
        {
          "data": {
            "image/png": "[encoded data removed]",
            "text/plain": [
              "<Figure size 1000x600 with 1 Axes>"
            ]
          },
          "metadata": {},
          "output_type": "display_data"
        },
        {
          "name": "stdout",
          "output_type": "stream",
          "text": [
            "[np.float64(0.6316740659321393)]\n",
            "[0.6666666666666666]\n",
            "[0.6]\n"
          ]
        }
      ],
      "source": [
        "# Finally, we can run three benchmarks:\n",
        "\n",
        "from zbench.benchmark import benchmark_ndcg, benchmark_accuracy, recall_at_k\n",
        "\n",
        "# The NDCG/Recall scores are around ~0.66, because out of the three documents, the correct document was incorrectly in second place.\n",
        "# If you use a dataset with hundreds of queries and many candidates documents per query, these graphs become very enlightening.\n",
        "print(benchmark_ndcg(SOURCE_DATASET_PATH, ANNOTATED_DATASET_PATH, visualize=True))\n",
        "print(benchmark_accuracy(SOURCE_DATASET_PATH, ANNOTATED_DATASET_PATH))\n",
        "print(recall_at_k(SOURCE_DATASET_PATH, ANNOTATED_DATASET_PATH, 5))"
      ]
    },
    {
      "cell_type": "markdown",
      "metadata": {},
      "source": [
        "# Testing Alternative Retrieval Methods\n",
        "\n",
        "Any retrieval method can be tested, and compared to both the Ensemble annotations and the initial retrieval scores provided in the SOURCE_DATASET.\n",
        "\n",
        "Note that since the candidate documents are already provided, we're always analyzing \"rerankers\" (Even if testing an bi-encoder embedding model, we're utilizing the embedding model as a reranker). If you would like to test alternative _initial retrieval_ methods, the suggestion would be to aggregate documents from multiple retrieval methods into the same SOURCE_DATASET candidate list. Then, you can zELO score all of the documents, and then analyze which initial retrieval method had the best zELO scores (With either NDCG, Recall, etc).\n",
        "\n",
        "Below is an example of testing \"zerank-1\", ZeroEntropy's reranker. Other rerankers can be tested by implementing the BaseReranker abstract class."
      ]
    },
    {
      "cell_type": "code",
      "execution_count": 8,
      "metadata": {},
      "outputs": [
        {
          "data": {
            "image/png": "[encoded data removed]",
            "text/plain": [
              "<Figure size 1000x600 with 1 Axes>"
            ]
          },
          "metadata": {},
          "output_type": "display_data"
        },
        {
          "name": "stdout",
          "output_type": "stream",
          "text": [
            "[np.float64(0.9028944580267518)]\n",
            "[0.6666666666666666]\n",
            "[0.0]\n"
          ]
        }
      ],
      "source": [
        "# You can also use built-in zerank reranker.\n",
        "# This requires your ZEROENTROPY_API_KEY to be in the .env file.\n",
        "\n",
        "from zbench.rerankers import Zerank\n",
        "\n",
        "# Annotated the source dataset with ZeroEntropy's reranker: zerank-1\n",
        "zerank = Zerank(\"zerank-1\")\n",
        "ZERANK_ANNOTATED_DATASET_PATH = \"./data/my_sample_dataset_zerank_annotated.jsonl\"\n",
        "await zerank.annotate(SOURCE_DATASET_PATH, ZERANK_ANNOTATED_DATASET_PATH)\n",
        "\n",
        "# This will now graph the performance of ZeroEntropy. It gets an NDCG > 90%, because it correctly identifies the correct ground truth document.\n",
        "# A more complex dataset would show overall performance boost from our reranker.\n",
        "print(benchmark_ndcg(SOURCE_DATASET_PATH, ZERANK_ANNOTATED_DATASET_PATH, visualize=True))\n",
        "print(benchmark_accuracy(SOURCE_DATASET_PATH, ZERANK_ANNOTATED_DATASET_PATH))\n",
        "print(recall_at_k(SOURCE_DATASET_PATH, ZERANK_ANNOTATED_DATASET_PATH, 1))"
      ]
    },
    {
      "cell_type": "markdown",
      "metadata": {},
      "source": [
        "# Analyzing the Annotations\n",
        "\n",
        "For a given query-document pair, it is helpful to analyze all of the pairwise comparisons that involved that document, so that we can analyze why it was given that zELO score. This can be used to debug and analyze failure modes in your current retrieval pipeline. If you disagree with the zELO score, the chain of thought can also be used to prompt engineer the Ensemble for your use-case.\n",
        "\n",
        "Since we do 4 inferences per document, and each inference involves two documents, then each document is involved in ~8 pairwise comparisons on average."
      ]
    },
    {
      "cell_type": "code",
      "execution_count": null,
      "metadata": {},
      "outputs": [
        {
          "name": "stdout",
          "output_type": "stream",
          "text": [
            "QUERY: (q1) What is the capital of France?\n",
            "\n",
            "DOCUMENT: (d2) Paris is the capital of France.\n",
            "\n",
            "ANNOTATIONS:\n",
            "\n",
            "- Competing Document: (d3) Rome is the capital of Italy.\n",
            "OpenAI Thoughts:\n",
            "    > Document A directly answers the query by stating 'Paris is the capital of France.' This is a precise and correct response to the question.\n",
            "    > There are no extraneous details or errors in Document A; it is concise and fully relevant.\n",
            "    > Document B, on the other hand, discusses the capital of Italy, which is not relevant to the query about France.\n",
            "    > While Document B is factually correct about Italy, it does not address the user's question at all.\n",
            "Gemini Thoughts:\n",
            "    > Document A directly and accurately answers the user's query. It states that Paris is the capital of France, which is precisely the information requested.\n",
            "    > Document B provides a fact of the same type (capital of a country), but for a different country, Italy. This information is not relevant to the user's query about France.\n",
            "    > Comparing the two, Document A is perfectly relevant, while Document B is completely irrelevant. Therefore, Document A is unequivocally the better document.\n",
            "Claude Thoughts:\n",
            "    > I'll analyze which document is more relevant to the query \"What is the capital of France?\"\n",
            "    > Looking at Document A: This document directly answers the query with a clear, concise statement: \"Paris is the capital of France.\" It provides exactly the information that was requested without any extraneous details. The document is perfectly aligned with the query, offering the precise answer to the question about France's capital.\n",
            "    > Looking at Document B: This document states \"Rome is the capital of Italy.\" While this is factually correct information about a capital city, it does not address the query about France's capital at all. Instead, it provides information about a different country (Italy) and its capital. The document contains no information relevant to the original query about France.\n",
            "    > Comparing the two documents: Document A directly answers the query with the exact information requested, while Document B provides information about a completely different country's capital. Document B might be relevant if the query were about Italy or about European capitals in general, but for this specific query about France's capital, it offers no relevant information.\n",
            "    > In conclusion, Document A is significantly more relevant to the query. It provides the exact answer to \"What is the capital of France?\" while Document B discusses an entirely different country's capital with no mention of France at all.\n",
            "\n",
            "- Competing Document: (d1) Paris has a capital letter. France also has a capital letter.\n",
            "OpenAI Thoughts:\n",
            "    > (SWAPPED)\n",
            "    > Document A directly answers the query by stating 'Paris is the capital of France.' This is a clear, concise, and accurate response to the question.\n",
            "    > There are no extraneous details or ambiguity in Document A; it is fully relevant to the query.\n",
            "    > Document B, on the other hand, discusses the capitalization of the words 'Paris' and 'France,' referring to their initial letters being uppercase. This is unrelated to the query, which is about the capital city of France, not about grammar or capitalization rules.\n",
            "    > Document B does not answer the question at all and could be confusing to someone seeking the capital city of France.\n",
            "Gemini Thoughts:\n",
            "    > (SWAPPED)\n",
            "    > Document A directly and accurately answers the user's query. It states that Paris is the capital of France, which is the exact information requested.\n",
            "    > Document B discusses a different meaning of the word 'capital', referring to capital letters. This is completely irrelevant to the user's query about the capital city of a country.\n",
            "    > Comparing the two, Document A is perfectly relevant, while Document B is completely irrelevant. Therefore, Document A is significantly more relevant.\n",
            "Claude Thoughts:\n",
            "    > I'll analyze which document is more relevant to the query \"What is the capital of France?\"\n",
            "    > Looking at Document A: \"Paris has a capital letter. France also has a capital letter.\"\n",
            "    > This document contains both terms \"Paris\" and \"France,\" which appear in the query. However, it's discussing capital letters in the grammatical sense, not capital cities. The document is playing on the dual meaning of the word \"capital\" but doesn't actually answer the query about which city serves as France's capital. It's completely off-topic from what the query is asking.\n",
            "    > Looking at Document B: \"Paris is the capital of France.\"\n",
            "    > This document directly and concisely answers the exact question being asked. It explicitly states that Paris is the capital of France, which is precisely the information the user is seeking. The document provides the factual answer to the query in a clear, straightforward manner without any ambiguity or irrelevant information.\n",
            "    > Comparing the two documents, Document B is significantly more relevant to the query. While Document A contains the keywords \"Paris,\" \"capital,\" and \"France,\" it uses them in a completely different context (discussing capitalization in writing) and doesn't provide the information the query is seeking. Document B, on the other hand, directly answers the question about which city is the capital of France. There's no contest here - Document B is substantially more relevant to the query.\n",
            "\n",
            "- Competing Document: (d1) Paris has a capital letter. France also has a capital letter.\n",
            "OpenAI Thoughts:\n",
            "    > (SWAPPED)\n",
            "    > Document A directly answers the query by stating 'Paris is the capital of France.' This is a clear, concise, and accurate response to the question.\n",
            "    > There are no extraneous details or ambiguity in Document A; it is fully relevant to the query.\n",
            "    > Document B, on the other hand, discusses the capitalization of the words 'Paris' and 'France,' referring to their initial letters being uppercase. This is unrelated to the query, which is about the capital city of France, not about grammar or orthography.\n",
            "    > Document B does not answer the question at all and could be confusing to someone seeking the capital city of France.\n",
            "    > Comparing both, Document A is directly relevant and correct, while Document B is irrelevant to the query.\n",
            "Gemini Thoughts:\n",
            "    > Document A uses the keywords 'capital' and 'France' from the query, but it completely misunderstands the user's intent. It discusses the concept of a 'capital letter' in writing, which is irrelevant to the user's question about a country's capital city.\n",
            "    > Document B directly and accurately answers the query. It explicitly states that 'Paris is the capital of France'. This is precisely the information the user is looking for.\n",
            "    > Comparing the two, Document B is perfectly relevant and provides a direct answer. Document A is completely irrelevant as it misinterprets the word 'capital'. Therefore, Document B is significantly more relevant.\n",
            "Claude Thoughts:\n",
            "    > (SWAPPED)\n",
            "    > I'll analyze which document is more relevant to the query \"What is the capital of France?\"\n",
            "    > Looking at Document A:\n",
            "    > Document A provides a direct, clear, and factually correct answer to the query. It explicitly states \"Paris is the capital of France,\" which is exactly what the query is asking for. The information is concise, accurate, and directly addresses the question without any irrelevant information. This is the definition of high relevance - it provides exactly the information being sought.\n",
            "    > Looking at Document B:\n",
            "    > Document B contains the words \"Paris,\" \"capital,\" and \"France,\" but it's discussing something completely different from what the query is asking. It's talking about capitalization in writing (capital letters) rather than a capital city. The document is making a play on words with the term \"capital\" but is not providing any information about the capital city of France. This document is essentially irrelevant to the query despite containing the keywords.\n",
            "    > Comparing the two documents:\n",
            "    > Document A directly answers the query with the correct information about Paris being the capital city of France. Document B uses the same keywords but in a completely different context (capitalization in writing) that has nothing to do with the query about a country's capital city.\n",
            "    > Document A is significantly more relevant to the query. It provides the exact information being sought, while Document B is discussing an entirely different topic that happens to use some of the same words but in a different sense. The relevance difference between these documents is extremely clear and substantial.\n",
            "\n",
            "- Competing Document: (d3) Rome is the capital of Italy.\n",
            "OpenAI Thoughts:\n",
            "    > Document A directly answers the query by stating that Paris is the capital of France, which is correct and fully relevant.\n",
            "    > There are no extraneous details or errors in Document A; it is concise and accurate.\n",
            "    > Document B discusses the capital of Italy, which is not relevant to the query about France.\n",
            "    > Document B does not mention France at all, making it irrelevant to the user's question.\n",
            "    > Comparing both, Document A is entirely relevant, while Document B is not relevant at all.\n",
            "Gemini Thoughts:\n",
            "    > Document A directly and accurately answers the user's query. It states that Paris is the capital of France, which is precisely the information requested.\n",
            "    > Document B provides a fact of the same type (capital of a country), but for a different country, Italy. This information is not relevant to the user's question about France.\n",
            "    > Comparing the two, Document A is perfectly relevant, while Document B is completely irrelevant. Therefore, Document A is unequivocally the better document.\n",
            "Claude Thoughts:\n",
            "    > (SWAPPED)\n",
            "    > I'll analyze which document is more relevant to the query \"What is the capital of France?\"\n",
            "    > Looking at Document A: This document states that \"Rome is the capital of Italy.\" While this is factually correct information about a European capital city, it doesn't address the query at all. The query specifically asks about France's capital, not Italy's. Document A provides information about a completely different country's capital, making it irrelevant to answering the specific question posed.\n",
            "    > Looking at Document B: This document directly states that \"Paris is the capital of France.\" This is precisely the information requested in the query. It provides a clear, direct, and accurate answer to \"What is the capital of France?\" The document contains exactly the information needed to satisfy the query with no extraneous information.\n",
            "    > Comparing the two documents: Document A provides information about Italy's capital, which is not what was asked. Document B provides the exact answer to the query about France's capital. There's really no contest here in terms of relevance.\n",
            "    > Document B is significantly more relevant to the query as it directly answers the question \"What is the capital of France?\" with the correct information, while Document A provides information about a different country altogether that doesn't help answer the query.\n",
            "\n",
            "- Competing Document: (d3) Rome is the capital of Italy.\n",
            "OpenAI Thoughts:\n",
            "    > (SWAPPED)\n",
            "    > Document A directly answers the query by stating 'Paris is the capital of France.' This is a precise and correct response to the question.\n",
            "    > There are no extraneous details or errors in Document A; it is concise and fully relevant.\n",
            "    > Document B, on the other hand, discusses the capital of Italy, which is not relevant to the query about France.\n",
            "    > While Document B is factually correct about Italy, it does not address the user's question at all.\n",
            "Gemini Thoughts:\n",
            "    > (SWAPPED)\n",
            "    > Document A directly and accurately answers the user's query. It states that Paris is the capital of France, which is precisely the information requested.\n",
            "    > Document B provides a similar type of information, stating that Rome is the capital of Italy. However, this information is completely irrelevant to the user's query about the capital of France.\n",
            "    > Comparing the two, Document A is perfectly relevant, while Document B is completely irrelevant. Therefore, Document A is significantly better.\n",
            "Claude Thoughts:\n",
            "    > (SWAPPED)\n",
            "    > I'll analyze which document is more relevant to the query \"What is the capital of France?\"\n",
            "    > Looking at Document A: This document directly answers the query with a clear, concise statement: \"Paris is the capital of France.\" It provides exactly the information that was requested without any extraneous details. The document is perfectly aligned with the query, offering the precise answer to the question about France's capital.\n",
            "    > Looking at Document B: This document states \"Rome is the capital of Italy.\" While this is factually correct information about a capital city, it does not address the query about France's capital. Instead, it provides information about a different country (Italy) and its capital. The document contains similar types of information (capital cities) but for an entirely different country than what was asked about.\n",
            "    > Comparing the two documents: Document A directly answers the specific query by providing the capital of France, which is Paris. Document B provides information about a capital city, but it's for Italy, not France. While Document B is still about a capital city of a European country, it completely fails to address the specific country (France) mentioned in the query.\n",
            "    > Document A is significantly more relevant to the query as it directly answers the exact question that was asked. Document B, while containing related information about capital cities, does not address the specific country mentioned in the query and therefore is not relevant to answering the question \"What is the capital of France?\"\n",
            "\n",
            "- Competing Document: (d1) Paris has a capital letter. France also has a capital letter.\n",
            "OpenAI Thoughts:\n",
            "    > (SWAPPED)\n",
            "    > Document A mentions both 'Paris' and 'France' and talks about capital letters, but it does not answer the question about the capital city of France. It is focused on grammar rather than geography.\n",
            "    > Document B directly states 'Paris is the capital of France,' which is a clear and direct answer to the query.\n",
            "    > Document B is concise, accurate, and directly relevant, while Document A is not relevant to the intent of the query.\n",
            "Gemini Thoughts:\n",
            "    > (SWAPPED)\n",
            "    > The user is asking a simple factual question: 'What is the capital of France?'.\n",
            "    > Document A mentions the keywords 'capital' and 'France', but it interprets 'capital' in a grammatical sense (capital letter), which is not the user's intent. Therefore, it does not answer the question at all and is completely irrelevant.\n",
            "    > Document B directly and accurately answers the user's question by stating 'Paris is the capital of France'. It perfectly matches the user's intent.\n",
            "    > Comparing the two, Document B is infinitely more relevant than Document A. Document A is useless, while Document B provides the exact answer. The choice is clear.\n",
            "Claude Thoughts:\n",
            "    > I'll analyze which document is more relevant to the query \"What is the capital of France?\"\n",
            "    > Looking at Document A:\n",
            "    > Document A provides a direct, clear, and factually correct answer to the query. It explicitly states \"Paris is the capital of France,\" which is exactly what the query is asking for. The information is concise, accurate, and directly addresses the question without any irrelevant information. This is the definition of high relevance - it provides exactly the information the user is seeking.\n",
            "    > Looking at Document B:\n",
            "    > Document B contains the words \"Paris,\" \"capital,\" and \"France,\" but it's discussing something completely different from what the query is asking. It's talking about capitalization in writing (capital letters) rather than a capital city. The document is playing on the different meanings of the word \"capital\" and is not providing any information about which city serves as the capital of France. This is essentially irrelevant to the query despite containing the keywords.\n",
            "    > Comparing the two documents:\n",
            "    > Document A directly answers the query with the correct information about Paris being France's capital city. Document B contains the keywords but discusses capitalization in writing, which is completely unrelated to the query about a country's capital city. The relevance difference here is stark - Document A provides exactly what the user is looking for, while Document B provides information on an entirely different topic that happens to use similar words.\n",
            "    > In conclusion, Document A is significantly more relevant to the query \"What is the capital of France?\" as it directly answers the question with accurate information, while Document B discusses an unrelated topic that simply contains some of the same words.\n",
            "\n",
            "- Competing Document: (d3) Rome is the capital of Italy.\n",
            "OpenAI Thoughts:\n",
            "    > (SWAPPED)\n",
            "    > Document A directly answers the query by stating 'Paris is the capital of France.' This is a precise and correct response to the question.\n",
            "    > There are no extraneous details or errors in Document A; it is concise and fully relevant.\n",
            "    > Document B, on the other hand, discusses the capital of Italy, which is not relevant to the query about France.\n",
            "    > Document B does not mention France at all, nor does it provide any information that would help answer the question.\n",
            "Gemini Thoughts:\n",
            "    > The user is asking a simple factual question: 'What is the capital of France?'.\n",
            "    > Document A states 'Rome is the capital of Italy.'. While this is a correct statement about a capital city, it does not answer the user's question about France. It is therefore not relevant to the query.\n",
            "    > Document B states 'Paris is the capital of France.'. This directly and accurately answers the user's question.\n",
            "    > Comparing the two documents, Document B provides the exact information requested by the user, making it highly relevant. Document A is completely irrelevant as it discusses a different country. Therefore, Document B is significantly more relevant than Document A.\n",
            "Claude Thoughts:\n",
            "    > (SWAPPED)\n",
            "    > I'll analyze which document is more relevant to the query \"What is the capital of France?\"\n",
            "    > Looking at Document A: This document directly answers the query with a clear, concise statement: \"Paris is the capital of France.\" It provides exactly the information that was requested without any extraneous details. The document is perfectly aligned with the query, offering the precise answer to the question about France's capital.\n",
            "    > Looking at Document B: This document states \"Rome is the capital of Italy.\" While this is factually correct information about a capital city, it does not address the query about France's capital. Instead, it provides information about a different country (Italy) and its capital. The document contains similar types of information (capital cities) but for an entirely different country than what was asked about.\n",
            "    > Comparing the two documents: Document A directly answers the specific query by providing the capital of France, which is Paris. Document B provides information about a capital city, but it's for Italy, not France. While Document B is still about a capital city of a European country, it completely fails to address the specific country (France) mentioned in the query.\n",
            "    > Document A is significantly more relevant to the query as it directly answers the exact question that was asked. Document B, while containing similar types of information (capital cities), is not relevant to this specific query about France's capital.\n",
            "\n",
            "- Competing Document: (d1) Paris has a capital letter. France also has a capital letter.\n",
            "OpenAI Thoughts:\n",
            "    > Document A directly answers the query by stating 'Paris is the capital of France.' This is a clear, concise, and accurate response to the question.\n",
            "    > There are no extraneous details or ambiguity in Document A; it is fully relevant.\n",
            "    > Document B discusses the concept of capital letters in the words 'Paris' and 'France,' which is unrelated to the query about the capital city of France.\n",
            "    > Document B does not answer the question at all and may even confuse the reader by focusing on grammar rather than geography.\n",
            "    > Comparing both, Document A is entirely relevant, while Document B is not relevant to the query.\n",
            "Gemini Thoughts:\n",
            "    > The user is asking for the capital city of the country France.\n",
            "    > Document A directly and accurately answers this question by stating 'Paris is the capital of France.'\n",
            "    > This makes Document A extremely relevant.\n",
            "    > Document B discusses the concept of a 'capital letter' in the words 'Paris' and 'France'.\n",
            "    > This is a different meaning of the word 'capital' and is completely irrelevant to the user's query about a capital city.\n",
            "    > Therefore, Document A is perfectly relevant, while Document B is completely irrelevant.\n",
            "    > The choice is clear: Document A is far superior.\n",
            "Claude Thoughts:\n",
            "    > (SWAPPED)\n",
            "    > I'll analyze which document is more relevant to the query \"What is the capital of France?\"\n",
            "    > Looking at Document A: \"Paris has a capital letter. France also has a capital letter.\"\n",
            "    > This document mentions both \"Paris\" and \"France,\" which are relevant terms to the query. However, it's discussing capital letters in the grammatical sense, not capital cities. The document is playing on the dual meaning of the word \"capital\" but doesn't actually answer the question about which city serves as France's capital. It's completely off-topic in terms of providing the information the query is seeking.\n",
            "    > Looking at Document B: \"Paris is the capital of France.\"\n",
            "    > This document directly and concisely answers the exact question being asked. It clearly states that Paris is the capital city of France, which is precisely the information someone would be looking for when asking \"What is the capital of France?\" The document is brief but contains the complete and correct answer to the query.\n",
            "    > Comparing the two documents, Document B is significantly more relevant to the query. While Document A contains the keywords \"Paris,\" \"capital,\" and \"France,\" it uses them in a completely different context (discussing capitalization in writing) and provides no useful information about France's capital city. Document B, on the other hand, directly answers the question with the correct information. Document B is unquestionably and substantially more relevant to this query.\n"
          ]
        }
      ],
      "source": [
        "# Show all of the pairwise comparisons between query id \"q1\" and document id \"d2\".\n",
        "\n",
        "from zbench.common_types import DatasetPairScoredPairs\n",
        "from zbench.utils import load_json\n",
        "\n",
        "# Load the AI scores\n",
        "ai_scores = DatasetPairScoredPairs.model_validate(load_json(\"data/annotation/my_sample_dataset/ai_scores.json\"))\n",
        "\n",
        "# Find pairs involving d2 for query q1\n",
        "target_query_id = \"q1\"\n",
        "target_document_id = \"d2\"\n",
        "\n",
        "print(f\"QUERY: ({target_query_id}) What is the capital of France?\")\n",
        "print(f\"\\nDOCUMENT: ({target_document_id}) Paris is the capital of France.\")\n",
        "print(f\"\\nANNOTATIONS:\")\n",
        "\n",
        "for scored_pair in ai_scores.scored_pairs:\n",
        "    pair = scored_pair.pair\n",
        "    if pair.query_id == target_query_id:\n",
        "        # Check if d2 is either document_a or document_b\n",
        "        if pair.document_a.document_id == target_document_id:\n",
        "            # d2 is document_a, so competing document is document_b\n",
        "            competing_doc = pair.document_b\n",
        "        elif pair.document_b.document_id == target_document_id:\n",
        "            # d2 is document_b, so competing document is document_a\n",
        "            competing_doc = pair.document_a\n",
        "        else:\n",
        "            continue  # This pair doesn't involve d2\n",
        "        \n",
        "        print(f\"\\n- Competing Document: ({competing_doc.document_id}) {competing_doc.content}\")\n",
        "        print(\"OpenAI Thoughts:\")\n",
        "        for line in scored_pair.openai_score.thought.split('\\n'):\n",
        "            if line.strip():\n",
        "                print(f\"    > {line.strip()}\")\n",
        "        print(\"Gemini Thoughts:\")\n",
        "        for line in scored_pair.gemini_score.thought.split('\\n'):\n",
        "            if line.strip():\n",
        "                print(f\"    > {line.strip()}\")\n",
        "        print(\"Claude Thoughts:\")\n",
        "        for line in scored_pair.anthropic_score.thought.split('\\n'):\n",
        "            if line.strip():\n",
        "                print(f\"    > {line.strip()}\")\n"
      ]
    }
  ],
  "metadata": {
    "kernelspec": {
      "display_name": "zbench",
      "language": "python",
      "name": "python3"
    },
    "language_info": {
      "codemirror_mode": {
        "name": "ipython",
        "version": 3
      },
      "file_extension": ".py",
      "mimetype": "text/x-python",
      "name": "python",
      "nbconvert_exporter": "python",
      "pygments_lexer": "ipython3",
      "version": "3.12.0"
    }
  },
  "nbformat": 4,
  "nbformat_minor": 2
}
